{
 "cells": [
  {
   "cell_type": "code",
   "execution_count": 2,
   "metadata": {},
   "outputs": [],
   "source": [
    "import pandas as pd\n"
   ]
  },
  {
   "cell_type": "code",
   "execution_count": 19,
   "metadata": {},
   "outputs": [
    {
     "data": {
      "text/html": [
       "<div>\n",
       "<style scoped>\n",
       "    .dataframe tbody tr th:only-of-type {\n",
       "        vertical-align: middle;\n",
       "    }\n",
       "\n",
       "    .dataframe tbody tr th {\n",
       "        vertical-align: top;\n",
       "    }\n",
       "\n",
       "    .dataframe thead th {\n",
       "        text-align: right;\n",
       "    }\n",
       "</style>\n",
       "<table border=\"1\" class=\"dataframe\">\n",
       "  <thead>\n",
       "    <tr style=\"text-align: right;\">\n",
       "      <th></th>\n",
       "      <th>tickers</th>\n",
       "      <th>eps</th>\n",
       "      <th>revenue</th>\n",
       "      <th>people</th>\n",
       "    </tr>\n",
       "  </thead>\n",
       "  <tbody>\n",
       "    <tr>\n",
       "      <th>0</th>\n",
       "      <td>google</td>\n",
       "      <td>27.82</td>\n",
       "      <td>87.0</td>\n",
       "      <td>larry page</td>\n",
       "    </tr>\n",
       "    <tr>\n",
       "      <th>1</th>\n",
       "      <td>wmt</td>\n",
       "      <td>4.61</td>\n",
       "      <td>484.0</td>\n",
       "      <td>NaN</td>\n",
       "    </tr>\n",
       "    <tr>\n",
       "      <th>2</th>\n",
       "      <td>msft</td>\n",
       "      <td>-1.00</td>\n",
       "      <td>85.0</td>\n",
       "      <td>bill gate</td>\n",
       "    </tr>\n",
       "    <tr>\n",
       "      <th>3</th>\n",
       "      <td>fil</td>\n",
       "      <td>NaN</td>\n",
       "      <td>50.0</td>\n",
       "      <td>mukesh ambani</td>\n",
       "    </tr>\n",
       "    <tr>\n",
       "      <th>4</th>\n",
       "      <td>tata</td>\n",
       "      <td>5.60</td>\n",
       "      <td>NaN</td>\n",
       "      <td>ratan tata</td>\n",
       "    </tr>\n",
       "  </tbody>\n",
       "</table>\n",
       "</div>"
      ],
      "text/plain": [
       "  tickers    eps  revenue         people\n",
       "0  google  27.82     87.0     larry page\n",
       "1     wmt   4.61    484.0            NaN\n",
       "2    msft  -1.00     85.0      bill gate\n",
       "3     fil    NaN     50.0  mukesh ambani\n",
       "4    tata   5.60      NaN     ratan tata"
      ]
     },
     "execution_count": 19,
     "metadata": {},
     "output_type": "execute_result"
    }
   ],
   "source": [
    "#df = pd.read_csv(\"D:\\Excel-files\\stock_data.csv\",header=None)     -for header is none\n",
    "#df = pd.read_csv(\"D:\\Excel-files\\stock_data.csv\",header=1)  ---  1 row make header\n",
    "#df = pd.read_csv(\"D:\\Excel-files\\stock_data.csv\",header=2)  --- row make header\n",
    "#df = pd.read_csv(\"D:\\Excel-files\\stock_data.csv\",header=None,names=['firstcol','secondcol','thirdcol','fourthcol'])  --- make\n",
    "# --- column name by yourself ------\n",
    "#df = pd.read_csv(\"D:\\Excel-files\\stock_data.csv\",nrows=3)    --how much row u wanna take\n",
    "#df = pd.read_csv(\"D:\\Excel-files\\stock_data.csv\",na_values=['not available','n.a.'])  -- to fill the column value instead of given value\n",
    "#df = pd.read_csv(\"D:\\Excel-files\\stock_data.csv\",na_values={\n",
    "#  'eps':['not available','n.a.'],\n",
    "#   'revenue':['not available','n.a.',-1],\n",
    "#  'people':['not available','n.a.']   ---  removing the values by customize way\n",
    "df = pd.read_csv(\"D:\\Excel-files\\stock_data.csv\",na_values={\n",
    "    'eps':['not available','n.a.'],\n",
    "    'revenue':['not available','n.a.',-1],\n",
    "    'people':['not available','n.a.']\n",
    "})\n",
    "df"
   ]
  },
  {
   "cell_type": "markdown",
   "metadata": {},
   "source": [
    "# Practice \n"
   ]
  },
  {
   "cell_type": "code",
   "execution_count": null,
   "metadata": {},
   "outputs": [],
   "source": [
    "#df = pd.read_csv(\"D:\\Excel-files\\stock_data.csv\",header=None)     -for header is none\n",
    "#df = pd.read_csv(\"D:\\Excel-files\\stock_data.csv\",header=1)  ---  1 row make header\n",
    "#df = pd.read_csv(\"D:\\Excel-files\\stock_data.csv\",header=2)  --- row make header\n",
    "#df = pd.read_csv(\"D:\\Excel-files\\stock_data.csv\",header=None,names=['firstcol','secondcol','thirdcol','fourthcol'])  --- make\n",
    "# --- column name by yourself ------"
   ]
  },
  {
   "cell_type": "code",
   "execution_count": 23,
   "metadata": {},
   "outputs": [],
   "source": [
    "df.to_csv('new.csv',index=False)"
   ]
  },
  {
   "cell_type": "code",
   "execution_count": 37,
   "metadata": {},
   "outputs": [],
   "source": [
    "def cell_converter(cell):\n",
    "    if cell=='n.a.':\n",
    "       return 'sam walton'\n",
    "    return cell"
   ]
  },
  {
   "cell_type": "code",
   "execution_count": 39,
   "metadata": {},
   "outputs": [
    {
     "ename": "NameError",
     "evalue": "name 'cell_convertor' is not defined",
     "output_type": "error",
     "traceback": [
      "\u001b[1;31m---------------------------------------------------------------------------\u001b[0m",
      "\u001b[1;31mNameError\u001b[0m                                 Traceback (most recent call last)",
      "\u001b[1;32m<ipython-input-39-61023b964e9c>\u001b[0m in \u001b[0;36m<module>\u001b[1;34m()\u001b[0m\n\u001b[0;32m      1\u001b[0m pg=pd.read_csv(\"D:\\Excel-files\\stock_data.csv\",convertors={\n\u001b[1;32m----> 2\u001b[1;33m     \u001b[1;34m'peopel'\u001b[0m\u001b[1;33m:\u001b[0m \u001b[0mcell_convertor\u001b[0m\u001b[1;33m\u001b[0m\u001b[0m\n\u001b[0m\u001b[0;32m      3\u001b[0m })\n\u001b[0;32m      4\u001b[0m \u001b[0mpg\u001b[0m\u001b[1;33m.\u001b[0m\u001b[0mhead\u001b[0m\u001b[1;33m(\u001b[0m\u001b[1;36m5\u001b[0m\u001b[1;33m)\u001b[0m\u001b[1;33m\u001b[0m\u001b[0m\n",
      "\u001b[1;31mNameError\u001b[0m: name 'cell_convertor' is not defined"
     ]
    }
   ],
   "source": [
    "pg=pd.read_excel(\"D:\\Excel-files\\stock_data.csv\",convertors={\n",
    "    'peopel': cell_convertor\n",
    "})\n",
    "pg.head(5)"
   ]
  },
  {
   "cell_type": "code",
   "execution_count": 28,
   "metadata": {},
   "outputs": [],
   "source": []
  }
 ],
 "metadata": {
  "kernelspec": {
   "display_name": "Python 3",
   "language": "python",
   "name": "python3"
  },
  "language_info": {
   "codemirror_mode": {
    "name": "ipython",
    "version": 3
   },
   "file_extension": ".py",
   "mimetype": "text/x-python",
   "name": "python",
   "nbconvert_exporter": "python",
   "pygments_lexer": "ipython3",
   "version": "3.6.5"
  }
 },
 "nbformat": 4,
 "nbformat_minor": 2
}
